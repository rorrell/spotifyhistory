{
 "cells": [
  {
   "cell_type": "markdown",
   "id": "3a4b4506-4ada-4f47-84de-eeb4da92ece4",
   "metadata": {},
   "source": [
    "# What Were the Top 10 Most Skipped Songs for This User?"
   ]
  },
  {
   "cell_type": "markdown",
   "id": "7104a653-85ef-4e73-9766-3e2ec3850f3b",
   "metadata": {},
   "source": [
    "*Setup*"
   ]
  },
  {
   "cell_type": "code",
   "execution_count": 68,
   "id": "2e09f889-55fa-4669-aa71-06accfd1adb4",
   "metadata": {},
   "outputs": [
    {
     "name": "stdout",
     "output_type": "stream",
     "text": [
      "(149860, 11)\n"
     ]
    },
    {
     "data": {
      "text/html": [
       "<div>\n",
       "<style scoped>\n",
       "    .dataframe tbody tr th:only-of-type {\n",
       "        vertical-align: middle;\n",
       "    }\n",
       "\n",
       "    .dataframe tbody tr th {\n",
       "        vertical-align: top;\n",
       "    }\n",
       "\n",
       "    .dataframe thead th {\n",
       "        text-align: right;\n",
       "    }\n",
       "</style>\n",
       "<table border=\"1\" class=\"dataframe\">\n",
       "  <thead>\n",
       "    <tr style=\"text-align: right;\">\n",
       "      <th></th>\n",
       "      <th>spotify_track_uri</th>\n",
       "      <th>ts</th>\n",
       "      <th>platform</th>\n",
       "      <th>ms_played</th>\n",
       "      <th>track_name</th>\n",
       "      <th>artist_name</th>\n",
       "      <th>album_name</th>\n",
       "      <th>reason_start</th>\n",
       "      <th>reason_end</th>\n",
       "      <th>shuffle</th>\n",
       "      <th>skipped</th>\n",
       "    </tr>\n",
       "  </thead>\n",
       "  <tbody>\n",
       "    <tr>\n",
       "      <th>0</th>\n",
       "      <td>2J3n32GeLmMjwuAzyhcSNe</td>\n",
       "      <td>2013-07-08 02:44:34</td>\n",
       "      <td>web player</td>\n",
       "      <td>3185</td>\n",
       "      <td>Say It, Just Say It</td>\n",
       "      <td>The Mowgli's</td>\n",
       "      <td>Waiting For The Dawn</td>\n",
       "      <td>autoplay</td>\n",
       "      <td>clickrow</td>\n",
       "      <td>False</td>\n",
       "      <td>False</td>\n",
       "    </tr>\n",
       "    <tr>\n",
       "      <th>1</th>\n",
       "      <td>1oHxIPqJyvAYHy0PVrDU98</td>\n",
       "      <td>2013-07-08 02:45:37</td>\n",
       "      <td>web player</td>\n",
       "      <td>61865</td>\n",
       "      <td>Drinking from the Bottle (feat. Tinie Tempah)</td>\n",
       "      <td>Calvin Harris</td>\n",
       "      <td>18 Months</td>\n",
       "      <td>clickrow</td>\n",
       "      <td>clickrow</td>\n",
       "      <td>False</td>\n",
       "      <td>False</td>\n",
       "    </tr>\n",
       "    <tr>\n",
       "      <th>2</th>\n",
       "      <td>487OPlneJNni3NWC8SYqhW</td>\n",
       "      <td>2013-07-08 02:50:24</td>\n",
       "      <td>web player</td>\n",
       "      <td>285386</td>\n",
       "      <td>Born To Die</td>\n",
       "      <td>Lana Del Rey</td>\n",
       "      <td>Born To Die - The Paradise Edition</td>\n",
       "      <td>clickrow</td>\n",
       "      <td>unknown</td>\n",
       "      <td>False</td>\n",
       "      <td>False</td>\n",
       "    </tr>\n",
       "    <tr>\n",
       "      <th>3</th>\n",
       "      <td>5IyblF777jLZj1vGHG2UD3</td>\n",
       "      <td>2013-07-08 02:52:40</td>\n",
       "      <td>web player</td>\n",
       "      <td>134022</td>\n",
       "      <td>Off To The Races</td>\n",
       "      <td>Lana Del Rey</td>\n",
       "      <td>Born To Die - The Paradise Edition</td>\n",
       "      <td>trackdone</td>\n",
       "      <td>clickrow</td>\n",
       "      <td>False</td>\n",
       "      <td>False</td>\n",
       "    </tr>\n",
       "    <tr>\n",
       "      <th>4</th>\n",
       "      <td>0GgAAB0ZMllFhbNc3mAodO</td>\n",
       "      <td>2013-07-08 03:17:52</td>\n",
       "      <td>web player</td>\n",
       "      <td>0</td>\n",
       "      <td>Half Mast</td>\n",
       "      <td>Empire Of The Sun</td>\n",
       "      <td>Walking On A Dream</td>\n",
       "      <td>clickrow</td>\n",
       "      <td>nextbtn</td>\n",
       "      <td>False</td>\n",
       "      <td>False</td>\n",
       "    </tr>\n",
       "  </tbody>\n",
       "</table>\n",
       "</div>"
      ],
      "text/plain": [
       "        spotify_track_uri                  ts    platform  ms_played  \\\n",
       "0  2J3n32GeLmMjwuAzyhcSNe 2013-07-08 02:44:34  web player       3185   \n",
       "1  1oHxIPqJyvAYHy0PVrDU98 2013-07-08 02:45:37  web player      61865   \n",
       "2  487OPlneJNni3NWC8SYqhW 2013-07-08 02:50:24  web player     285386   \n",
       "3  5IyblF777jLZj1vGHG2UD3 2013-07-08 02:52:40  web player     134022   \n",
       "4  0GgAAB0ZMllFhbNc3mAodO 2013-07-08 03:17:52  web player          0   \n",
       "\n",
       "                                      track_name        artist_name  \\\n",
       "0                            Say It, Just Say It       The Mowgli's   \n",
       "1  Drinking from the Bottle (feat. Tinie Tempah)      Calvin Harris   \n",
       "2                                    Born To Die       Lana Del Rey   \n",
       "3                               Off To The Races       Lana Del Rey   \n",
       "4                                      Half Mast  Empire Of The Sun   \n",
       "\n",
       "                           album_name reason_start reason_end  shuffle  \\\n",
       "0                Waiting For The Dawn     autoplay   clickrow    False   \n",
       "1                           18 Months     clickrow   clickrow    False   \n",
       "2  Born To Die - The Paradise Edition     clickrow    unknown    False   \n",
       "3  Born To Die - The Paradise Edition    trackdone   clickrow    False   \n",
       "4                  Walking On A Dream     clickrow    nextbtn    False   \n",
       "\n",
       "   skipped  \n",
       "0    False  \n",
       "1    False  \n",
       "2    False  \n",
       "3    False  \n",
       "4    False  "
      ]
     },
     "execution_count": 68,
     "metadata": {},
     "output_type": "execute_result"
    }
   ],
   "source": [
    "import pandas as pd\n",
    "import numpy as np\n",
    "import seaborn as sns\n",
    "import matplotlib.pyplot as plt\n",
    "\n",
    "df = pd.read_csv(\"Sources/spotify_history.csv\", parse_dates=['ts'])\n",
    "print(df.shape)\n",
    "df.head()"
   ]
  },
  {
   "cell_type": "markdown",
   "id": "f89b8a5d-767c-45f5-b642-3d97c28de3f7",
   "metadata": {},
   "source": [
    "*Wrangle the data*"
   ]
  },
  {
   "cell_type": "code",
   "execution_count": 65,
   "id": "70e8f1ca-dfa9-4959-89d9-3148ca2398c2",
   "metadata": {},
   "outputs": [
    {
     "data": {
      "text/html": [
       "<div>\n",
       "<style scoped>\n",
       "    .dataframe tbody tr th:only-of-type {\n",
       "        vertical-align: middle;\n",
       "    }\n",
       "\n",
       "    .dataframe tbody tr th {\n",
       "        vertical-align: top;\n",
       "    }\n",
       "\n",
       "    .dataframe thead th {\n",
       "        text-align: right;\n",
       "    }\n",
       "</style>\n",
       "<table border=\"1\" class=\"dataframe\">\n",
       "  <thead>\n",
       "    <tr style=\"text-align: right;\">\n",
       "      <th></th>\n",
       "      <th>spotify_track_uri</th>\n",
       "      <th>count</th>\n",
       "      <th>artist_name</th>\n",
       "      <th>track_name</th>\n",
       "    </tr>\n",
       "  </thead>\n",
       "  <tbody>\n",
       "    <tr>\n",
       "      <th>0</th>\n",
       "      <td>6y63IkVtjr2RnPVvK8BqEj</td>\n",
       "      <td>29</td>\n",
       "      <td>Dvicio</td>\n",
       "      <td>Paraíso</td>\n",
       "    </tr>\n",
       "    <tr>\n",
       "      <th>1</th>\n",
       "      <td>1HNkqx9Ahdgi1Ixy2xkKkL</td>\n",
       "      <td>21</td>\n",
       "      <td>Ed Sheeran</td>\n",
       "      <td>Photograph</td>\n",
       "    </tr>\n",
       "    <tr>\n",
       "      <th>2</th>\n",
       "      <td>6HTJZ0TQJVMSKkUGzAOe2h</td>\n",
       "      <td>19</td>\n",
       "      <td>Matoma</td>\n",
       "      <td>Old Thing Back (feat. Ja Rule and Ralph Tresvant)</td>\n",
       "    </tr>\n",
       "    <tr>\n",
       "      <th>3</th>\n",
       "      <td>6nRwc5GgNvBMkKaynhQzrm</td>\n",
       "      <td>19</td>\n",
       "      <td>Justin Bieber</td>\n",
       "      <td>What Do You Mean?</td>\n",
       "    </tr>\n",
       "    <tr>\n",
       "      <th>4</th>\n",
       "      <td>70OTIpw8x8UXUsuCHW9i1i</td>\n",
       "      <td>18</td>\n",
       "      <td>One Direction</td>\n",
       "      <td>Drag Me Down</td>\n",
       "    </tr>\n",
       "    <tr>\n",
       "      <th>5</th>\n",
       "      <td>3PuKf5pn248yPymkQdcaeT</td>\n",
       "      <td>17</td>\n",
       "      <td>The Last Bison</td>\n",
       "      <td>Switzerland</td>\n",
       "    </tr>\n",
       "    <tr>\n",
       "      <th>6</th>\n",
       "      <td>1njCkadQm2hGaajHFIBxdW</td>\n",
       "      <td>16</td>\n",
       "      <td>David Bisbal</td>\n",
       "      <td>Diez Mil Maneras</td>\n",
       "    </tr>\n",
       "    <tr>\n",
       "      <th>7</th>\n",
       "      <td>52RIwrVO4z30hkTsSWOYyL</td>\n",
       "      <td>15</td>\n",
       "      <td>Banda Tierra Sagrada</td>\n",
       "      <td>La Buena y la Mala</td>\n",
       "    </tr>\n",
       "    <tr>\n",
       "      <th>8</th>\n",
       "      <td>5MNRv4XYIXjEG34dxf747J</td>\n",
       "      <td>14</td>\n",
       "      <td>We The Kings</td>\n",
       "      <td>Just Keep Breathing</td>\n",
       "    </tr>\n",
       "    <tr>\n",
       "      <th>9</th>\n",
       "      <td>7yR50dqQ9I4fyvbk3pHfgl</td>\n",
       "      <td>14</td>\n",
       "      <td>We The Kings</td>\n",
       "      <td>Queen of Hearts</td>\n",
       "    </tr>\n",
       "  </tbody>\n",
       "</table>\n",
       "</div>"
      ],
      "text/plain": [
       "        spotify_track_uri  count           artist_name  \\\n",
       "0  6y63IkVtjr2RnPVvK8BqEj     29                Dvicio   \n",
       "1  1HNkqx9Ahdgi1Ixy2xkKkL     21            Ed Sheeran   \n",
       "2  6HTJZ0TQJVMSKkUGzAOe2h     19                Matoma   \n",
       "3  6nRwc5GgNvBMkKaynhQzrm     19         Justin Bieber   \n",
       "4  70OTIpw8x8UXUsuCHW9i1i     18         One Direction   \n",
       "5  3PuKf5pn248yPymkQdcaeT     17        The Last Bison   \n",
       "6  1njCkadQm2hGaajHFIBxdW     16          David Bisbal   \n",
       "7  52RIwrVO4z30hkTsSWOYyL     15  Banda Tierra Sagrada   \n",
       "8  5MNRv4XYIXjEG34dxf747J     14          We The Kings   \n",
       "9  7yR50dqQ9I4fyvbk3pHfgl     14          We The Kings   \n",
       "\n",
       "                                          track_name  \n",
       "0                                            Paraíso  \n",
       "1                                         Photograph  \n",
       "2  Old Thing Back (feat. Ja Rule and Ralph Tresvant)  \n",
       "3                                  What Do You Mean?  \n",
       "4                                       Drag Me Down  \n",
       "5                                        Switzerland  \n",
       "6                                   Diez Mil Maneras  \n",
       "7                                 La Buena y la Mala  \n",
       "8                                Just Keep Breathing  \n",
       "9                                    Queen of Hearts  "
      ]
     },
     "execution_count": 65,
     "metadata": {},
     "output_type": "execute_result"
    }
   ],
   "source": [
    "skipped = df.copy()\n",
    "skipped = skipped[skipped[\"skipped\"] == True]\n",
    "mapping_artist = skipped.set_index(\"spotify_track_uri\")[\"artist_name\"].to_dict()\n",
    "\n",
    "top10skipped = skipped[\"spotify_track_uri\"].value_counts().head(10)\n",
    "top10skipped_df = top10skipped.reset_index()\n",
    "top10skipped_df[\"artist_name\"] = top10skipped_df[\"spotify_track_uri\"].map(mapping_artist)\n",
    "\n",
    "mapping_track = skipped.set_index(\"spotify_track_uri\")[\"track_name\"].to_dict()\n",
    "top10skipped_df[\"track_name\"] = top10skipped_df[\"spotify_track_uri\"].map(mapping_track)\n",
    "top10skipped_df"
   ]
  },
  {
   "cell_type": "markdown",
   "id": "83fa696a-1765-49bc-95aa-3fd54f8f699d",
   "metadata": {},
   "source": [
    "These are the top 10 most skipped songs of all time for this user."
   ]
  },
  {
   "cell_type": "markdown",
   "id": "8a723572-87c2-4a83-87b7-f62a37a65783",
   "metadata": {},
   "source": [
    "# How Much Is This User Listening to Music Over Time?"
   ]
  },
  {
   "cell_type": "markdown",
   "id": "31d5949a-d604-4dd8-8777-b97b58441642",
   "metadata": {},
   "source": [
    "*Set Grid Style*"
   ]
  },
  {
   "cell_type": "code",
   "execution_count": 95,
   "id": "1e9f11a9-3caa-4fa3-b8c0-656fbf68f8a8",
   "metadata": {},
   "outputs": [],
   "source": [
    "sns.set_style(\"whitegrid\")"
   ]
  },
  {
   "cell_type": "markdown",
   "id": "ebff306a-9b76-43e7-b742-fedecb6e8450",
   "metadata": {},
   "source": [
    "*Wrangle the Data and Plot the Grid*"
   ]
  },
  {
   "cell_type": "code",
   "execution_count": 102,
   "id": "2629b0e6-b482-49a7-b47b-d934833e5e5e",
   "metadata": {},
   "outputs": [
    {
     "data": {
      "image/png": "[encoded data removed]",
      "text/plain": [
       "<Figure size 640x480 with 1 Axes>"
      ]
     },
     "metadata": {},
     "output_type": "display_data"
    }
   ],
   "source": [
    "df[\"year\"] = df[\"ts\"].dt.year\n",
    "total_listens_by_year = df.groupby(\"year\")[\"spotify_track_uri\"].count()\n",
    "total_listens_by_year.plot(kind=\"line\", title=\"Total Song Listen Count Over Time\")\n",
    "plt.show()"
   ]
  },
  {
   "cell_type": "markdown",
   "id": "1fcf7ebe-3f3c-42f5-a6cb-31ce30c9329f",
   "metadata": {},
   "source": [
    "It appears that the user listened the most in 2017 and 2020 but that recently their listening is trending downward."
   ]
  },
  {
   "cell_type": "markdown",
   "id": "bb558855-6880-40a2-a09c-a04b5ddc514a",
   "metadata": {},
   "source": [
    "# Who Was the Top Artist for 2017?"
   ]
  },
  {
   "cell_type": "code",
   "execution_count": 97,
   "id": "5b317e4b-2317-4113-8ef8-b04d87efdcd6",
   "metadata": {},
   "outputs": [
    {
     "data": {
      "text/plain": [
       "artist_name\n",
       "The Beatles    3244\n",
       "John Mayer     1382\n",
       "The Killers    1275\n",
       "Bob Dylan       789\n",
       "Radiohead       651\n",
       "Name: count, dtype: int64"
      ]
     },
     "execution_count": 97,
     "metadata": {},
     "output_type": "execute_result"
    }
   ],
   "source": [
    "df2017 = df[df[\"ts\"].dt.year == 2017]\n",
    "top_artists2017 = df2017[\"artist_name\"].value_counts().head(5)\n",
    "top_artists2017"
   ]
  },
  {
   "cell_type": "markdown",
   "id": "b80d7c57-a1b2-4913-a5bd-8cd3ff21b250",
   "metadata": {
    "jp-MarkdownHeadingCollapsed": true
   },
   "source": [
    "This user listened to The Beatles the most in 2017, with a whopping 3,244 listens (that's almost 2,000 more than the next most listened to artist)."
   ]
  }
 ],
 "metadata": {
  "kernelspec": {
   "display_name": "Python 3 (ipykernel)",
   "language": "python",
   "name": "python3"
  },
  "language_info": {
   "codemirror_mode": {
    "name": "ipython",
    "version": 3
   },
   "file_extension": ".py",
   "mimetype": "text/x-python",
   "name": "python",
   "nbconvert_exporter": "python",
   "pygments_lexer": "ipython3",
   "version": "3.11.4"
  }
 },
 "nbformat": 4,
 "nbformat_minor": 5
}
